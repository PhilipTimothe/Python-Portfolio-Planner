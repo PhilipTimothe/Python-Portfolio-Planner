{
 "cells": [
  {
   "cell_type": "code",
   "execution_count": 29,
   "id": "cca9dd3f-8b4c-4edd-9d36-57fc094a38cd",
   "metadata": {},
   "outputs": [],
   "source": [
    "stocks = {\n",
    "        \"Apple Inc\" : \"AAPL\",\n",
    "        \"Amazon.com Inc\" : \"AMZN\",\n",
    "        \"Tesla Inc\" : \"TSLA\",\n",
    "        \"Johnson & Johnson\" : \"JNJ\",\n",
    "        \"Pfizer Inc\" : \"PFE\",\n",
    "        \"Morgan Stanley\" : \"MS\",\n",
    "        \"Coinbase Gllobal Inc\" : \"COIN\",\n",
    "        \"Visa Inc\" : \"V\",\n",
    "        \"American Express Company\" : \"AXP\",\n",
    "        \"Paypal Holding Inc\" : \"PYPL\",\n",
    "        \"General Electric Company\" : \"GE\",\n",
    "        \"Delta Air Lines Inc\" : \"DAL\",\n",
    "        \"Exxon Mobil Corp\" : \"XOM\"\n",
    "    }"
   ]
  },
  {
   "cell_type": "code",
   "execution_count": 30,
   "id": "d7377ede-059c-482c-91b8-b2982d2020f5",
   "metadata": {},
   "outputs": [
    {
     "name": "stdout",
     "output_type": "stream",
     "text": [
      "Apple Inc\n",
      "Amazon.com Inc\n",
      "Tesla Inc\n",
      "Johnson & Johnson\n",
      "Pfizer Inc\n",
      "Morgan Stanley\n",
      "Coinbase Gllobal Inc\n",
      "Visa Inc\n",
      "American Express Company\n",
      "Paypal Holding Inc\n",
      "General Electric Company\n",
      "Delta Air Lines Inc\n",
      "Exxon Mobil Corp\n"
     ]
    }
   ],
   "source": [
    "for stock in stocks:\n",
    "    print(stock)"
   ]
  },
  {
   "cell_type": "code",
   "execution_count": 35,
   "id": "29721251-22ac-4888-8ff3-021f3c77a2e4",
   "metadata": {},
   "outputs": [
    {
     "data": {
      "text/plain": [
       "dict_keys(['Apple Inc', 'Amazon.com Inc', 'Tesla Inc', 'Johnson & Johnson', 'Pfizer Inc', 'Morgan Stanley', 'Coinbase Gllobal Inc', 'Visa Inc', 'American Express Company', 'Paypal Holding Inc', 'General Electric Company', 'Delta Air Lines Inc', 'Exxon Mobil Corp'])"
      ]
     },
     "execution_count": 35,
     "metadata": {},
     "output_type": "execute_result"
    }
   ],
   "source": [
    "stock = stocks.keys()\n",
    "stock"
   ]
  },
  {
   "cell_type": "code",
   "execution_count": null,
   "id": "1390561e-7fbd-4b11-815f-9ae83d43566d",
   "metadata": {},
   "outputs": [],
   "source": []
  }
 ],
 "metadata": {
  "kernelspec": {
   "display_name": "Python 3 (ipykernel)",
   "language": "python",
   "name": "python3"
  },
  "language_info": {
   "codemirror_mode": {
    "name": "ipython",
    "version": 3
   },
   "file_extension": ".py",
   "mimetype": "text/x-python",
   "name": "python",
   "nbconvert_exporter": "python",
   "pygments_lexer": "ipython3",
   "version": "3.9.13"
  }
 },
 "nbformat": 4,
 "nbformat_minor": 5
}
