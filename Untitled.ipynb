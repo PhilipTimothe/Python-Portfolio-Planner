{
 "cells": [
  {
   "cell_type": "code",
   "execution_count": 10,
   "id": "488e47ee-8295-49b9-a14e-389bdbdcea88",
   "metadata": {},
   "outputs": [
    {
     "name": "stdout",
     "output_type": "stream",
     "text": [
      "Sharpie Ratio \u001b[31m1.05445\n"
     ]
    }
   ],
   "source": [
    "from colorama import Fore, Back, Style\n",
    "print('Sharpie Ratio ' + Fore.RED + '1.05445')"
   ]
  },
  {
   "cell_type": "code",
   "execution_count": 32,
   "id": "6cf4a14b-4d54-490e-8e8f-23cdf4ad3ccd",
   "metadata": {},
   "outputs": [
    {
     "name": "stdout",
     "output_type": "stream",
     "text": [
      "Sharpe ratio for is \u001b[31mDf.\n",
      "\n",
      "Annualized Average Return is \u001b[31mdsdsf\n",
      "Annualized Standard Deviation is \u001b[31mDfd.\n"
     ]
    }
   ],
   "source": [
    "print(f\"Sharpe ratio for is \" + Fore.RED + \"Df.\\n\")\n",
    "print(f\"Annualized Average Return is \" + Fore.RED + \"dsdsf\")\n",
    "print(f\"Annualized Standard Deviation is \" + Fore.RED + \"Dfd.\")"
   ]
  },
  {
   "cell_type": "code",
   "execution_count": 33,
   "id": "3e3e4613-296b-4438-a4a8-9ed28cf84c2b",
   "metadata": {},
   "outputs": [
    {
     "name": "stdout",
     "output_type": "stream",
     "text": [
      "\u001b[31msome red text\n",
      "\u001b[42mand with a green background\n",
      "\u001b[2mand in dim text\n",
      "\u001b[0m\n",
      "back to normal now\n"
     ]
    }
   ],
   "source": [
    "from colorama import Fore, Back, Style\n",
    "print(Fore.RED + 'some red text')\n",
    "print(Back.GREEN + 'and with a green background')\n",
    "print(Style.DIM + 'and in dim text')\n",
    "print(Style.RESET_ALL)\n",
    "print('back to normal now')"
   ]
  },
  {
   "cell_type": "code",
   "execution_count": 37,
   "id": "ac20d711-1afa-494b-b5ce-3261ef57d4a2",
   "metadata": {},
   "outputs": [
    {
     "name": "stdout",
     "output_type": "stream",
     "text": [
      "0.3\n"
     ]
    }
   ],
   "source": [
    "def add(x):\n",
    "    y = x\n",
    "    return y\n",
    "u = add(.3)\n",
    "print(u)"
   ]
  },
  {
   "cell_type": "code",
   "execution_count": null,
   "id": "a43634b5-24d5-436e-abb0-272bba04260f",
   "metadata": {},
   "outputs": [],
   "source": []
  }
 ],
 "metadata": {
  "kernelspec": {
   "display_name": "Python 3 (ipykernel)",
   "language": "python",
   "name": "python3"
  },
  "language_info": {
   "codemirror_mode": {
    "name": "ipython",
    "version": 3
   },
   "file_extension": ".py",
   "mimetype": "text/x-python",
   "name": "python",
   "nbconvert_exporter": "python",
   "pygments_lexer": "ipython3",
   "version": "3.9.13"
  }
 },
 "nbformat": 4,
 "nbformat_minor": 5
}
